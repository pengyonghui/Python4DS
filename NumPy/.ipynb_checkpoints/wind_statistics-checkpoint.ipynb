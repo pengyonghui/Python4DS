{
 "cells": [
  {
   "cell_type": "code",
   "execution_count": 1,
   "metadata": {},
   "outputs": [
    {
     "data": {
      "text/plain": [
       "\"\\nhttps://www.youtube.com/watch?v=ZB7BZMhfPgk\\nhttps://github.com/enthought/Numpy-Tutorial-SciPyConf-2019\\n\\nWind Statistics\\n----------------\\n\\nTopics: Using array methods over different axes, fancy indexing.\\n\\n1. The data in 'wind.data' has the following format::\\n\\n        61  1  1 15.04 14.96 13.17  9.29 13.96  9.87 13.67 10.25 10.83 12.58 18.50 15.04\\n        61  1  2 14.71 16.88 10.83  6.50 12.62  7.67 11.50 10.04  9.79  9.67 17.54 13.83\\n        61  1  3 18.50 16.88 12.33 10.13 11.17  6.17 11.25  8.04  8.50  7.67 12.75 12.71\\n\\n   The first three columns are year, month and day.  The\\n   remaining 12 columns are average windspeeds in knots at 12\\n   locations in Ireland on that day.\\n\\n   Use the 'loadtxt' function from numpy to read the data into\\n   an array.\\n\\n2. Calculate the min, max and mean windspeeds and standard deviation of the\\n   windspeeds over all the locations and all the times (a single set of numbers\\n   for the entire dataset).\\n\\n3. Calculate the min, max and mean windspeeds and standard deviations of the\\n   windspeeds at each location over all the days (a different set of numbers\\n   for each location)\\n\\n4. Calculate the min, max and mean windspeed and standard deviations of the\\n   windspeeds across all the locations at each day (a different set of numbers\\n   for each day)\\n\\n5. Find the location which has the greatest windspeed on each day (an integer\\n   column number for each day).\\n\\n6. Find the year, month and day on which the greatest windspeed was recorded.\\n\\n7. Find the average windspeed in January for each location.\\n\\nYou should be able to perform all of these operations without using a for\\nloop or other looping construct.\\n\\nBonus\\n~~~~~\\n\\n1. Calculate the mean windspeed for each month in the dataset.  Treat\\n   January 1961 and January 1962 as *different* months. (hint: first find a\\n   way to create an identifier unique for each month. The second step might\\n   require a for loop.)\\n\\n2. Calculate the min, max and mean windspeeds and standard deviations of the\\n   windspeeds across all locations for each week (assume that the first week\\n   starts on January 1 1961) for the first 52 weeks. This can be done without\\n   any for loop.\\n\\nBonus Bonus\\n~~~~~~~~~~~\\n\\nCalculate the mean windspeed for each month without using a for loop.\\n(Hint: look at `searchsorted` and `add.reduceat`.)\\n\\nNotes\\n~~~~~\\n\\nThese data were analyzed in detail in the following article:\\n\\n   Haslett, J. and Raftery, A. E. (1989). Space-time Modelling with\\n   Long-memory Dependence: Assessing Ireland's Wind Power Resource\\n   (with Discussion). Applied Statistics 38, 1-50.\\n\\n\\nSee :ref:`wind-statistics-solution`.\\n\""
      ]
     },
     "execution_count": 1,
     "metadata": {},
     "output_type": "execute_result"
    }
   ],
   "source": [
    "\"\"\"\n",
    "https://www.youtube.com/watch?v=ZB7BZMhfPgk\n",
    "https://github.com/enthought/Numpy-Tutorial-SciPyConf-2019\n",
    "\n",
    "Wind Statistics\n",
    "----------------\n",
    "\n",
    "Topics: Using array methods over different axes, fancy indexing.\n",
    "\n",
    "1. The data in 'wind.data' has the following format::\n",
    "\n",
    "        61  1  1 15.04 14.96 13.17  9.29 13.96  9.87 13.67 10.25 10.83 12.58 18.50 15.04\n",
    "        61  1  2 14.71 16.88 10.83  6.50 12.62  7.67 11.50 10.04  9.79  9.67 17.54 13.83\n",
    "        61  1  3 18.50 16.88 12.33 10.13 11.17  6.17 11.25  8.04  8.50  7.67 12.75 12.71\n",
    "\n",
    "   The first three columns are year, month and day.  The\n",
    "   remaining 12 columns are average windspeeds in knots at 12\n",
    "   locations in Ireland on that day.\n",
    "\n",
    "   Use the 'loadtxt' function from numpy to read the data into\n",
    "   an array.\n",
    "\n",
    "2. Calculate the min, max and mean windspeeds and standard deviation of the\n",
    "   windspeeds over all the locations and all the times (a single set of numbers\n",
    "   for the entire dataset).\n",
    "\n",
    "3. Calculate the min, max and mean windspeeds and standard deviations of the\n",
    "   windspeeds at each location over all the days (a different set of numbers\n",
    "   for each location)\n",
    "\n",
    "4. Calculate the min, max and mean windspeed and standard deviations of the\n",
    "   windspeeds across all the locations at each day (a different set of numbers\n",
    "   for each day)\n",
    "\n",
    "5. Find the location which has the greatest windspeed on each day (an integer\n",
    "   column number for each day).\n",
    "\n",
    "6. Find the year, month and day on which the greatest windspeed was recorded.\n",
    "\n",
    "7. Find the average windspeed in January for each location.\n",
    "\n",
    "You should be able to perform all of these operations without using a for\n",
    "loop or other looping construct.\n",
    "\n",
    "Bonus\n",
    "~~~~~\n",
    "\n",
    "1. Calculate the mean windspeed for each month in the dataset.  Treat\n",
    "   January 1961 and January 1962 as *different* months. (hint: first find a\n",
    "   way to create an identifier unique for each month. The second step might\n",
    "   require a for loop.)\n",
    "\n",
    "2. Calculate the min, max and mean windspeeds and standard deviations of the\n",
    "   windspeeds across all locations for each week (assume that the first week\n",
    "   starts on January 1 1961) for the first 52 weeks. This can be done without\n",
    "   any for loop.\n",
    "\n",
    "Bonus Bonus\n",
    "~~~~~~~~~~~\n",
    "\n",
    "Calculate the mean windspeed for each month without using a for loop.\n",
    "(Hint: look at `searchsorted` and `add.reduceat`.)\n",
    "\n",
    "Notes\n",
    "~~~~~\n",
    "\n",
    "These data were analyzed in detail in the following article:\n",
    "\n",
    "   Haslett, J. and Raftery, A. E. (1989). Space-time Modelling with\n",
    "   Long-memory Dependence: Assessing Ireland's Wind Power Resource\n",
    "   (with Discussion). Applied Statistics 38, 1-50.\n",
    "\n",
    "\n",
    "See :ref:`wind-statistics-solution`.\n",
    "\"\"\""
   ]
  },
  {
   "cell_type": "code",
   "execution_count": 2,
   "metadata": {},
   "outputs": [
    {
     "data": {
      "text/plain": [
       "array([[61.  ,  1.  ,  1.  , ..., 12.58, 18.5 , 15.04],\n",
       "       [61.  ,  1.  ,  2.  , ...,  9.67, 17.54, 13.83],\n",
       "       [61.  ,  1.  ,  3.  , ...,  7.67, 12.75, 12.71],\n",
       "       ...,\n",
       "       [78.  , 12.  , 29.  , ..., 16.42, 18.88, 29.58],\n",
       "       [78.  , 12.  , 30.  , ..., 12.12, 14.67, 28.79],\n",
       "       [78.  , 12.  , 31.  , ..., 11.38, 12.08, 22.08]])"
      ]
     },
     "execution_count": 2,
     "metadata": {},
     "output_type": "execute_result"
    }
   ],
   "source": [
    "import numpy as np\n",
    "from numpy import loadtxt\n",
    "\n",
    "wind_data = loadtxt(\"wind.data\")\n",
    "wind_data"
   ]
  },
  {
   "cell_type": "code",
   "execution_count": 3,
   "metadata": {},
   "outputs": [
    {
     "data": {
      "text/plain": [
       "(6574, 15)"
      ]
     },
     "execution_count": 3,
     "metadata": {},
     "output_type": "execute_result"
    }
   ],
   "source": [
    "wind_data.shape"
   ]
  },
  {
   "cell_type": "code",
   "execution_count": 4,
   "metadata": {},
   "outputs": [
    {
     "name": "stdout",
     "output_type": "stream",
     "text": [
      "2. Statistics over all values\n",
      " min: 0.0\n",
      " max: 42.54\n",
      " mean: 10.22837377040868\n",
      " standard deviation: 5.603840181095793\n",
      "\n"
     ]
    }
   ],
   "source": [
    "dates = wind_data[:, :3]\n",
    "data = wind_data[:, 3:]\n",
    "\n",
    "print('2. Statistics over all values')\n",
    "print(' min:', data.min())\n",
    "print(' max:', data.max())\n",
    "print(' mean:', data.mean())\n",
    "print(' standard deviation:', data.std())\n",
    "print()"
   ]
  },
  {
   "cell_type": "code",
   "execution_count": 5,
   "metadata": {},
   "outputs": [
    {
     "name": "stdout",
     "output_type": "stream",
     "text": [
      "3. Statistics over all days at each location\n",
      "  min: [0.67 0.21 1.5  0.   0.13 0.   0.   0.   0.   0.04 0.13 0.67]\n",
      "  max: [35.8  33.37 33.84 28.46 37.54 26.16 30.37 31.08 25.88 28.21 42.38 42.54]\n",
      "  mean: [12.36371463 10.64644813 11.66010344  6.30627472 10.45688013  7.09225434\n",
      "  9.7968345   8.49442044  8.49581838  8.70726803 13.121007   15.59946152]\n",
      "  standard deviation: [5.61918301 5.26820081 5.00738377 3.60513309 4.93536333 3.96838126\n",
      " 4.97689374 4.49865783 4.16746101 4.50327222 5.83459319 6.69734719]\n",
      "\n"
     ]
    }
   ],
   "source": [
    "print('3. Statistics over all days at each location')\n",
    "print('  min:', data.min(axis=0))\n",
    "print('  max:', data.max(axis=0))\n",
    "print('  mean:', data.mean(axis=0))\n",
    "print('  standard deviation:', data.std(axis=0))\n",
    "print()"
   ]
  },
  {
   "cell_type": "code",
   "execution_count": 6,
   "metadata": {},
   "outputs": [
    {
     "name": "stdout",
     "output_type": "stream",
     "text": [
      "4. Statistics over all locations for each day\n",
      "  min: [9.29 6.5  6.17 ... 8.71 9.13 9.59]\n",
      "  max: [18.5  17.54 18.5  ... 29.58 28.79 27.29]\n",
      "  mean: [13.09666667 11.79833333 11.34166667 ... 14.89       15.3675\n",
      " 15.4025    ]\n",
      "  standard deviation: [2.5773188  3.28972854 3.50543348 ... 5.51175108 5.30456427 5.45971172]\n",
      "\n"
     ]
    }
   ],
   "source": [
    "## Calculate the min, max and mean windspeed and standard deviations of the\n",
    "##   windspeeds across all the locations at each day (a different set of numbers\n",
    "##   for each day)\n",
    "print('4. Statistics over all locations for each day')\n",
    "print('  min:', data.min(axis=1))\n",
    "print('  max:', data.max(axis=1))\n",
    "print('  mean:', data.mean(axis=1))\n",
    "print('  standard deviation:', data.std(axis=1))\n",
    "print()"
   ]
  },
  {
   "cell_type": "code",
   "execution_count": 7,
   "metadata": {},
   "outputs": [
    {
     "name": "stdout",
     "output_type": "stream",
     "text": [
      "5. Location of daily maximum\n",
      "  daily max location: [10 10  0 ... 11 11  2]\n",
      "\n"
     ]
    }
   ],
   "source": [
    "## Find the location which has the greatest windspeed on each day (an integer\n",
    "##   column number for each day).\n",
    "print('5. Location of daily maximum')\n",
    "print('  daily max location:', data.argmax(axis=1))\n",
    "print()"
   ]
  },
  {
   "cell_type": "code",
   "execution_count": 8,
   "metadata": {},
   "outputs": [
    {
     "name": "stdout",
     "output_type": "stream",
     "text": [
      "6. Day of maximum reading\n",
      "  Year: 66\n",
      "  Month: 12\n",
      "  Day: 2\n",
      "\n"
     ]
    }
   ],
   "source": [
    "## 6. Find the year, month and day on which the greatest windspeed was recorded.\n",
    "daily_max = data.max(axis=1)\n",
    "max_row = daily_max.argmax()\n",
    "# Note: Another way to do this would be to use the unravel_index function\n",
    "# which takes a linear index and convert it to a location given the shape\n",
    "# of the array:\n",
    "max_row, max_col = np.unravel_index(data.argmax(), data.shape)\n",
    "# Or you could use \"where\", which identifies *all* the places where the max\n",
    "# occurs, rather than just the first. Note that \"where\" returns two arrays in\n",
    "# this case, instead of two integers.\n",
    "max_row, max_col = np.where(data == data.max())\n",
    "\n",
    "\n",
    "print('6. Day of maximum reading')\n",
    "print('  Year:', int(wind_data[max_row, 0]))\n",
    "print('  Month:', int(wind_data[max_row, 1]))\n",
    "print('  Day:', int(wind_data[max_row, 2]))\n",
    "print()"
   ]
  },
  {
   "cell_type": "code",
   "execution_count": 9,
   "metadata": {},
   "outputs": [
    {
     "data": {
      "text/plain": [
       "array([ True,  True,  True, ..., False, False, False])"
      ]
     },
     "execution_count": 9,
     "metadata": {},
     "output_type": "execute_result"
    }
   ],
   "source": [
    "## 7. Find the average windspeed in January for each location.\n",
    "\n",
    "januaries = dates[:, 1] ==  1\n",
    "januaries"
   ]
  },
  {
   "cell_type": "code",
   "execution_count": 10,
   "metadata": {},
   "outputs": [
    {
     "data": {
      "text/plain": [
       "array([69.5       ,  1.        , 16.        , 14.86955197, 12.92166667,\n",
       "       13.29962366,  7.19949821, 11.67571685,  8.05483871, 11.81935484,\n",
       "        9.5094086 ,  9.54320789, 10.05356631, 14.55051971, 18.02876344])"
      ]
     },
     "execution_count": 10,
     "metadata": {},
     "output_type": "execute_result"
    }
   ],
   "source": [
    "wind_data[januaries].mean(axis = 0)"
   ]
  },
  {
   "cell_type": "code",
   "execution_count": 11,
   "metadata": {},
   "outputs": [
    {
     "name": "stdout",
     "output_type": "stream",
     "text": [
      "Bonus 1.\n",
      "  mean: [11.38064516 13.49235119 11.07236559  8.41116667  8.97341398  9.69827778\n",
      "  9.0191129  10.78744624  9.98913889 11.47658602  8.97275    10.83540323\n",
      " 12.13212366 13.59598214  9.18459677 10.11858333 10.2380914  10.37711111\n",
      "  8.55392473 10.16247312  9.03233333  8.77284946  8.69958333 13.50424731\n",
      " 11.39830645 12.1975     12.22680108 11.66697222 11.92016129  9.58397222\n",
      "  7.97793011 10.62623656  9.61469444 11.98873656 12.01725    11.70376344\n",
      " 10.54655914 12.30577586 11.08018817 10.82422222 12.1602957  10.19705556\n",
      "  9.77325269  8.7486828   9.92152778  9.42801075 10.83275    11.8411828\n",
      " 13.20513441  7.79008929 11.99360215 11.74033333 10.02645161  9.59919444\n",
      "  8.48080645 10.34521505  9.49627778  9.66018817 12.38769444 11.65768817\n",
      " 12.23252688 14.23779762 12.11698925 13.87783333 10.78344086  8.566\n",
      "  9.38806452  8.20416667  8.61044444  8.80290323 11.60736111 14.09346774\n",
      " 10.5730914  13.11553571 14.86959677 11.01230556 10.91604839  8.20327778\n",
      "  9.31594086  8.75123656 10.46183333 13.58768817  9.87638889 11.07462366\n",
      " 11.72524194  8.88258621 12.25365591 10.31744444  8.70569892  7.80461111\n",
      "  6.35655914  7.78774194 10.01975    10.45198925 12.45022222 10.25768817\n",
      " 10.50451613 11.18535714  9.3819086   9.84458333  7.60172043  7.9655\n",
      "  9.07991935  8.88545699  8.07788889 10.3391129  10.64327778 10.57002688\n",
      " 10.46959677 11.72886905 11.98876344 11.41594444  9.86048387  8.296\n",
      " 10.42274194  7.73389785 10.37375    11.62166667 10.94308333  9.88182796\n",
      " 11.17405914  9.40142857  9.13295699  7.80991667  8.42008065  8.85972222\n",
      "  6.59994624  7.66080645  6.77586111 11.04268817 11.17513889 11.66677419\n",
      " 10.80266129 10.65560345 10.16854839 10.80630556 12.01752688  9.93261111\n",
      "  6.95201613  7.60852151  6.79436111  9.00908602 10.13186111 12.93959677\n",
      " 10.00591398 11.46345238  9.6658871  11.26347222 10.40653226  8.75761111\n",
      "  7.60787634  7.42080645  8.95811111  8.64163978  9.73275    10.96795699\n",
      " 16.25182796 10.51848214  9.58454301  7.18986111 10.81586022  9.12719444\n",
      " 10.04836022  9.02510753 10.46783333 10.44655914 10.83433333 15.85728495\n",
      " 14.01139785  9.80827381  9.70137097  9.89633333  7.94908602  7.9215\n",
      "  8.24244624  7.07365591 10.13477778 11.17327957  9.4575      9.15293011\n",
      " 13.70206989 10.53192529 12.54467742  9.25497222 10.2608871   8.71172222\n",
      "  7.65099462  5.7877957   9.52441667  9.08795699  8.74852778  8.04145161\n",
      " 10.45715054 10.58931548 13.7741129  12.36077778  8.01884409  8.61341667\n",
      "  9.13303763  7.64392473 10.60841667 12.84120968 13.35980556 12.0469086\n",
      " 11.71575269 11.2296131  12.5925      9.73238889  6.73365591  9.42775\n",
      "  9.67626344  7.5925     11.02269444  9.23389785 12.72102778 12.70357527]\n",
      "\n"
     ]
    }
   ],
   "source": [
    "# Bonus\n",
    "\n",
    "# compute the month number for each day in the dataset\n",
    "months = (wind_data[:, 0] - 61) * 12 + wind_data[:, 1] - 1\n",
    "\n",
    "# we're going to use the month values as indices, so we need\n",
    "# them to be integers\n",
    "months = months.astype(int)\n",
    "\n",
    "# get set of unique months\n",
    "month_values = set(months)\n",
    "\n",
    "# initialize an array to hold the result\n",
    "monthly_means = np.zeros(len(month_values))\n",
    "\n",
    "for month in month_values:\n",
    "    # find the rows that correspond to the current month\n",
    "    day_indices = (months == month)\n",
    "\n",
    "    # extract the data for the current month using fancy indexing\n",
    "    month_data = data[day_indices]\n",
    "\n",
    "    # find the mean\n",
    "    monthly_means[month] = month_data.mean()\n",
    "\n",
    "    # Note: experts might do this all-in one\n",
    "    # monthly_means[month] = data[months==month].mean()\n",
    "\n",
    "# In fact the whole for loop could reduce to the following one-liner\n",
    "# monthly_means = array([data[months==month].mean() for month in month_values])\n",
    "\n",
    "\n",
    "print(\"Bonus 1.\")\n",
    "print(\"  mean:\", monthly_means)\n",
    "print()"
   ]
  },
  {
   "cell_type": "code",
   "execution_count": 12,
   "metadata": {},
   "outputs": [
    {
     "data": {
      "text/plain": [
       "array([  0,   0,   0, ..., 215, 215, 215])"
      ]
     },
     "execution_count": 12,
     "metadata": {},
     "output_type": "execute_result"
    }
   ],
   "source": [
    "months"
   ]
  },
  {
   "cell_type": "code",
   "execution_count": 13,
   "metadata": {},
   "outputs": [
    {
     "name": "stdout",
     "output_type": "stream",
     "text": [
      "Bonus 2. Weekly statistics over all locations\n",
      "  min: [1.79 0.5  1.04 2.17 3.63 8.08 3.42 2.21 5.66 1.71 2.75 2.58 1.46 3.21\n",
      " 1.54 0.83 1.38 3.83 1.04 3.33 1.63 3.29 3.21 1.58 2.88 4.42 3.54 2.67\n",
      " 1.46 2.17 2.25 2.5  6.83 3.96 1.13 1.25 4.17 1.46 3.21 1.04 2.96 3.75\n",
      " 2.21 1.71 1.33 0.63 2.88 1.92 3.13 5.46 0.58 0.42]\n",
      "  max: [18.5  20.71 20.79 27.63 27.71 26.38 28.62 29.63 25.8  22.71 22.95 21.54\n",
      " 22.5  18.29 16.17 21.09 17.5  28.08 26.63 15.96 20.96 17.96 19.83 25.25\n",
      " 24.71 21.87 21.29 22.5  21.42 25.37 20.25 14.58 24.3  22.29 24.71 20.25\n",
      " 33.09 20.96 23.21 19.62 21.04 33.45 30.88 23.58 20.41 32.71 22.58 23.75\n",
      " 29.33 25.62 24.41 29.33]\n",
      "  mean: [10.30154762  8.895       9.29952381 14.92047619 12.7902381  16.03654762\n",
      " 13.69488095 11.7597619  13.05642857 10.07535714 12.7502381   9.80142857\n",
      " 11.27690476  8.75619048  7.65988095  9.45642857  7.72511905 11.66607143\n",
      "  9.49797619  7.80666667  7.18857143  9.00452381  8.875       9.0952381\n",
      " 10.33083333 10.00547619 10.6002381  11.00452381  6.49833333  8.98964286\n",
      "  9.41059524  7.79928571 12.4302381  11.87083333  9.44535714  8.19107143\n",
      " 14.2775      7.46892857 11.56797619  7.62214286 10.17690476 14.2122619\n",
      " 14.60130952 10.64011905  7.72940476  8.01428571  8.87488095  9.48154762\n",
      " 11.85857143 14.06452381  8.65619048 10.34535714]\n",
      "  standard deviation: [3.59683343 4.6321592  4.79571607 5.47394258 5.65514325 4.11000594\n",
      " 4.54837111 4.94462261 4.6677826  4.02365667 4.46287223 3.9157436\n",
      " 4.26987174 3.57409826 3.32839139 4.88978932 3.65416119 4.56799868\n",
      " 6.1608199  3.08495594 3.76150367 3.03276332 3.13056039 4.43310449\n",
      " 4.23035437 3.52044721 3.96014399 4.53741415 3.32806709 4.99611526\n",
      " 3.95783772 2.79584674 3.49525698 4.37060588 5.8672575  4.11062271\n",
      " 6.10904947 3.3877883  4.52344048 4.24576374 4.1320066  6.6091067\n",
      " 6.12878742 4.81716388 3.93763506 5.65747468 3.97790909 5.02698989\n",
      " 4.93450054 4.53654116 5.08608744 5.42755655]\n",
      "\n"
     ]
    }
   ],
   "source": [
    "# Bonus 2.\n",
    "# Extract the data for the first 52 weeks. Then reshape the array to put\n",
    "# on the same line 7 days worth of data for all locations. Let Numpy\n",
    "# figure out the number of lines needed to do so\n",
    "weekly_data = data[:52 * 7].reshape(-1,7*12)\n",
    "\n",
    "print('Bonus 2. Weekly statistics over all locations')\n",
    "print('  min:', weekly_data.min(axis=1))\n",
    "print('  max:', weekly_data.max(axis=1))\n",
    "print('  mean:', weekly_data.mean(axis=1))\n",
    "print('  standard deviation:', weekly_data.std(axis=1))\n",
    "print()"
   ]
  },
  {
   "cell_type": "code",
   "execution_count": 14,
   "metadata": {},
   "outputs": [
    {
     "data": {
      "text/plain": [
       "(52, 84)"
      ]
     },
     "execution_count": 14,
     "metadata": {},
     "output_type": "execute_result"
    }
   ],
   "source": [
    "weekly_data.shape"
   ]
  },
  {
   "cell_type": "code",
   "execution_count": 15,
   "metadata": {},
   "outputs": [
    {
     "name": "stdout",
     "output_type": "stream",
     "text": [
      "Bonus Bonus\n",
      "  mean: [11.38064516 13.49235119 11.07236559  8.41116667  8.97341398  9.69827778\n",
      "  9.0191129  10.78744624  9.98913889 11.47658602  8.97275    10.83540323\n",
      " 12.13212366 13.59598214  9.18459677 10.11858333 10.2380914  10.37711111\n",
      "  8.55392473 10.16247312  9.03233333  8.77284946  8.69958333 13.50424731\n",
      " 11.39830645 12.1975     12.22680108 11.66697222 11.92016129  9.58397222\n",
      "  7.97793011 10.62623656  9.61469444 11.98873656 12.01725    11.70376344\n",
      " 10.54655914 12.30577586 11.08018817 10.82422222 12.1602957  10.19705556\n",
      "  9.77325269  8.7486828   9.92152778  9.42801075 10.83275    11.8411828\n",
      " 13.20513441  7.79008929 11.99360215 11.74033333 10.02645161  9.59919444\n",
      "  8.48080645 10.34521505  9.49627778  9.66018817 12.38769444 11.65768817\n",
      " 12.23252688 14.23779762 12.11698925 13.87783333 10.78344086  8.566\n",
      "  9.38806452  8.20416667  8.61044444  8.80290323 11.60736111 14.09346774\n",
      " 10.5730914  13.11553571 14.86959677 11.01230556 10.91604839  8.20327778\n",
      "  9.31594086  8.75123656 10.46183333 13.58768817  9.87638889 11.07462366\n",
      " 11.72524194  8.88258621 12.25365591 10.31744444  8.70569892  7.80461111\n",
      "  6.35655914  7.78774194 10.01975    10.45198925 12.45022222 10.25768817\n",
      " 10.50451613 11.18535714  9.3819086   9.84458333  7.60172043  7.9655\n",
      "  9.07991935  8.88545699  8.07788889 10.3391129  10.64327778 10.57002688\n",
      " 10.46959677 11.72886905 11.98876344 11.41594444  9.86048387  8.296\n",
      " 10.42274194  7.73389785 10.37375    11.62166667 10.94308333  9.88182796\n",
      " 11.17405914  9.40142857  9.13295699  7.80991667  8.42008065  8.85972222\n",
      "  6.59994624  7.66080645  6.77586111 11.04268817 11.17513889 11.66677419\n",
      " 10.80266129 10.65560345 10.16854839 10.80630556 12.01752688  9.93261111\n",
      "  6.95201613  7.60852151  6.79436111  9.00908602 10.13186111 12.93959677\n",
      " 10.00591398 11.46345238  9.6658871  11.26347222 10.40653226  8.75761111\n",
      "  7.60787634  7.42080645  8.95811111  8.64163978  9.73275    10.96795699\n",
      " 16.25182796 10.51848214  9.58454301  7.18986111 10.81586022  9.12719444\n",
      " 10.04836022  9.02510753 10.46783333 10.44655914 10.83433333 15.85728495\n",
      " 14.01139785  9.80827381  9.70137097  9.89633333  7.94908602  7.9215\n",
      "  8.24244624  7.07365591 10.13477778 11.17327957  9.4575      9.15293011\n",
      " 13.70206989 10.53192529 12.54467742  9.25497222 10.2608871   8.71172222\n",
      "  7.65099462  5.7877957   9.52441667  9.08795699  8.74852778  8.04145161\n",
      " 10.45715054 10.58931548 13.7741129  12.36077778  8.01884409  8.61341667\n",
      "  9.13303763  7.64392473 10.60841667 12.84120968 13.35980556 12.0469086\n",
      " 11.71575269 11.2296131  12.5925      9.73238889  6.73365591  9.42775\n",
      "  9.67626344  7.5925     11.02269444  9.23389785 12.72102778 12.70357527]\n"
     ]
    }
   ],
   "source": [
    "\"\"\"\n",
    "Calculate the mean windspeed for each month without using a for loop.\n",
    "(Hint: look at `searchsorted` and `add.reduceat`.)\n",
    "\n",
    "\"\"\"\n",
    "\n",
    "# compute the month number for each day in the dataset\n",
    "months = (wind_data[:, 0] - 61) * 12 + wind_data[:, 1] - 1\n",
    "\n",
    "# find the indices for the start of each month\n",
    "# this is a useful trick - we use range from 0 to the\n",
    "# number of months + 1 and searchsorted to find the insertion\n",
    "# points for each.\n",
    "month_indices = np.searchsorted(months, np.arange(months[-1] + 2))\n",
    "\n",
    "# now use add.reduceat to get the sum at each location\n",
    "monthly_loc_totals = np.add.reduceat(data, month_indices[:-1])\n",
    "\n",
    "# now use add to find the sum across all locations for each month\n",
    "monthly_totals = monthly_loc_totals.sum(axis=1)\n",
    "\n",
    "# now find total number of measurements for each month\n",
    "month_days = month_indices[1:] - month_indices[:-1]\n",
    "measurement_count = month_days * 12\n",
    "\n",
    "# compute the mean\n",
    "monthly_means = monthly_totals / measurement_count\n",
    "\n",
    "print(\"Bonus Bonus\")\n",
    "print(\"  mean:\", monthly_means)\n",
    "\n",
    "# Notes: this method relies on the fact that the months are contiguous in the\n",
    "# data set - the method used in the bonus section works for non-contiguous\n",
    "# days."
   ]
  },
  {
   "cell_type": "code",
   "execution_count": 16,
   "metadata": {},
   "outputs": [
    {
     "data": {
      "text/plain": [
       "(216,)"
      ]
     },
     "execution_count": 16,
     "metadata": {},
     "output_type": "execute_result"
    }
   ],
   "source": [
    "monthly_means.shape"
   ]
  },
  {
   "cell_type": "code",
   "execution_count": 17,
   "metadata": {},
   "outputs": [
    {
     "data": {
      "text/plain": [
       "array([  0.,   0.,   0., ..., 215., 215., 215.])"
      ]
     },
     "execution_count": 17,
     "metadata": {},
     "output_type": "execute_result"
    }
   ],
   "source": [
    "months"
   ]
  },
  {
   "cell_type": "code",
   "execution_count": 18,
   "metadata": {},
   "outputs": [
    {
     "data": {
      "text/plain": [
       "(6574,)"
      ]
     },
     "execution_count": 18,
     "metadata": {},
     "output_type": "execute_result"
    }
   ],
   "source": [
    "months.shape"
   ]
  },
  {
   "cell_type": "code",
   "execution_count": 19,
   "metadata": {},
   "outputs": [
    {
     "data": {
      "text/plain": [
       "array([   0,   31,   59,   90,  120,  151,  181,  212,  243,  273,  304,\n",
       "        334,  365,  396,  424,  455,  485,  516,  546,  577,  608,  638,\n",
       "        669,  699,  730,  761,  789,  820,  850,  881,  911,  942,  973,\n",
       "       1003, 1034, 1064, 1095, 1126, 1155, 1186, 1216, 1247, 1277, 1308,\n",
       "       1339, 1369, 1400, 1430, 1461, 1492, 1520, 1551, 1581, 1612, 1642,\n",
       "       1673, 1704, 1734, 1765, 1795, 1826, 1857, 1885, 1916, 1946, 1977,\n",
       "       2007, 2038, 2069, 2099, 2130, 2160, 2191, 2222, 2250, 2281, 2311,\n",
       "       2342, 2372, 2403, 2434, 2464, 2495, 2525, 2556, 2587, 2616, 2647,\n",
       "       2677, 2708, 2738, 2769, 2800, 2830, 2861, 2891, 2922, 2953, 2981,\n",
       "       3012, 3042, 3073, 3103, 3134, 3165, 3195, 3226, 3256, 3287, 3318,\n",
       "       3346, 3377, 3407, 3438, 3468, 3499, 3530, 3560, 3591, 3621, 3652,\n",
       "       3683, 3711, 3742, 3772, 3803, 3833, 3864, 3895, 3925, 3956, 3986,\n",
       "       4017, 4048, 4077, 4108, 4138, 4169, 4199, 4230, 4261, 4291, 4322,\n",
       "       4352, 4383, 4414, 4442, 4473, 4503, 4534, 4564, 4595, 4626, 4656,\n",
       "       4687, 4717, 4748, 4779, 4807, 4838, 4868, 4899, 4929, 4960, 4991,\n",
       "       5021, 5052, 5082, 5113, 5144, 5172, 5203, 5233, 5264, 5294, 5325,\n",
       "       5356, 5386, 5417, 5447, 5478, 5509, 5538, 5569, 5599, 5630, 5660,\n",
       "       5691, 5722, 5752, 5783, 5813, 5844, 5875, 5903, 5934, 5964, 5995,\n",
       "       6025, 6056, 6087, 6117, 6148, 6178, 6209, 6240, 6268, 6299, 6329,\n",
       "       6360, 6390, 6421, 6452, 6482, 6513, 6543, 6574], dtype=int64)"
      ]
     },
     "execution_count": 19,
     "metadata": {},
     "output_type": "execute_result"
    }
   ],
   "source": [
    "month_indices"
   ]
  },
  {
   "cell_type": "code",
   "execution_count": 20,
   "metadata": {},
   "outputs": [
    {
     "data": {
      "text/plain": [
       "array([31, 28, 31, 30, 31, 30, 31, 31, 30, 31, 30, 31, 31, 28, 31, 30, 31,\n",
       "       30, 31, 31, 30, 31, 30, 31, 31, 28, 31, 30, 31, 30, 31, 31, 30, 31,\n",
       "       30, 31, 31, 29, 31, 30, 31, 30, 31, 31, 30, 31, 30, 31, 31, 28, 31,\n",
       "       30, 31, 30, 31, 31, 30, 31, 30, 31, 31, 28, 31, 30, 31, 30, 31, 31,\n",
       "       30, 31, 30, 31, 31, 28, 31, 30, 31, 30, 31, 31, 30, 31, 30, 31, 31,\n",
       "       29, 31, 30, 31, 30, 31, 31, 30, 31, 30, 31, 31, 28, 31, 30, 31, 30,\n",
       "       31, 31, 30, 31, 30, 31, 31, 28, 31, 30, 31, 30, 31, 31, 30, 31, 30,\n",
       "       31, 31, 28, 31, 30, 31, 30, 31, 31, 30, 31, 30, 31, 31, 29, 31, 30,\n",
       "       31, 30, 31, 31, 30, 31, 30, 31, 31, 28, 31, 30, 31, 30, 31, 31, 30,\n",
       "       31, 30, 31, 31, 28, 31, 30, 31, 30, 31, 31, 30, 31, 30, 31, 31, 28,\n",
       "       31, 30, 31, 30, 31, 31, 30, 31, 30, 31, 31, 29, 31, 30, 31, 30, 31,\n",
       "       31, 30, 31, 30, 31, 31, 28, 31, 30, 31, 30, 31, 31, 30, 31, 30, 31,\n",
       "       31, 28, 31, 30, 31, 30, 31, 31, 30, 31, 30, 31], dtype=int64)"
      ]
     },
     "execution_count": 20,
     "metadata": {},
     "output_type": "execute_result"
    }
   ],
   "source": [
    "month_days"
   ]
  },
  {
   "cell_type": "code",
   "execution_count": 21,
   "metadata": {},
   "outputs": [
    {
     "data": {
      "text/plain": [
       "(217,)"
      ]
     },
     "execution_count": 21,
     "metadata": {},
     "output_type": "execute_result"
    }
   ],
   "source": [
    "month_indices.shape"
   ]
  },
  {
   "cell_type": "code",
   "execution_count": 22,
   "metadata": {},
   "outputs": [
    {
     "data": {
      "text/plain": [
       "array([  0.,   1.,   2.,   3.,   4.,   5.,   6.,   7.,   8.,   9.,  10.,\n",
       "        11.,  12.,  13.,  14.,  15.,  16.,  17.,  18.,  19.,  20.,  21.,\n",
       "        22.,  23.,  24.,  25.,  26.,  27.,  28.,  29.,  30.,  31.,  32.,\n",
       "        33.,  34.,  35.,  36.,  37.,  38.,  39.,  40.,  41.,  42.,  43.,\n",
       "        44.,  45.,  46.,  47.,  48.,  49.,  50.,  51.,  52.,  53.,  54.,\n",
       "        55.,  56.,  57.,  58.,  59.,  60.,  61.,  62.,  63.,  64.,  65.,\n",
       "        66.,  67.,  68.,  69.,  70.,  71.,  72.,  73.,  74.,  75.,  76.,\n",
       "        77.,  78.,  79.,  80.,  81.,  82.,  83.,  84.,  85.,  86.,  87.,\n",
       "        88.,  89.,  90.,  91.,  92.,  93.,  94.,  95.,  96.,  97.,  98.,\n",
       "        99., 100., 101., 102., 103., 104., 105., 106., 107., 108., 109.,\n",
       "       110., 111., 112., 113., 114., 115., 116., 117., 118., 119., 120.,\n",
       "       121., 122., 123., 124., 125., 126., 127., 128., 129., 130., 131.,\n",
       "       132., 133., 134., 135., 136., 137., 138., 139., 140., 141., 142.,\n",
       "       143., 144., 145., 146., 147., 148., 149., 150., 151., 152., 153.,\n",
       "       154., 155., 156., 157., 158., 159., 160., 161., 162., 163., 164.,\n",
       "       165., 166., 167., 168., 169., 170., 171., 172., 173., 174., 175.,\n",
       "       176., 177., 178., 179., 180., 181., 182., 183., 184., 185., 186.,\n",
       "       187., 188., 189., 190., 191., 192., 193., 194., 195., 196., 197.,\n",
       "       198., 199., 200., 201., 202., 203., 204., 205., 206., 207., 208.,\n",
       "       209., 210., 211., 212., 213., 214., 215., 216.])"
      ]
     },
     "execution_count": 22,
     "metadata": {},
     "output_type": "execute_result"
    }
   ],
   "source": [
    "np.arange(months[-1]+2)"
   ]
  }
 ],
 "metadata": {
  "kernelspec": {
   "display_name": "Python 3",
   "language": "python",
   "name": "python3"
  },
  "language_info": {
   "codemirror_mode": {
    "name": "ipython",
    "version": 3
   },
   "file_extension": ".py",
   "mimetype": "text/x-python",
   "name": "python",
   "nbconvert_exporter": "python",
   "pygments_lexer": "ipython3",
   "version": "3.8.6"
  }
 },
 "nbformat": 4,
 "nbformat_minor": 4
}
